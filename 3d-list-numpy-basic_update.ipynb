{
 "cells": [
  {
   "attachments": {},
   "cell_type": "markdown",
   "metadata": {},
   "source": [
    "# Phần 1: Ôn tập 2D list\n"
   ]
  },
  {
   "attachments": {},
   "cell_type": "markdown",
   "metadata": {},
   "source": [
    "## Bài tập 1: Tính tổng đường chéo chính\n",
    "Viết một chương trình Python để tính tổng các phần tử trên đường chéo chính của một ma trận vuông (mảng hai chiều) đã cho. Đường chéo chính là dãy các phần tử từ góc trên bên trái đến góc dưới bên phải của ma trận. Ví dụ, với ma trận sau đây:\n",
    "```\n",
    "matrix = [\n",
    "    [1, 2, 3],\n",
    "    [4, 5, 6],\n",
    "    [7, 8, 9]\n",
    "]\n",
    "```\n",
    "Tổng của các phần tử trên đường chéo chính là 1 + 5 + 9 = 15.\n",
    "\n",
    "Gợi ý:\n",
    "\n",
    "Sử dụng vòng lặp để duyệt qua các hàng và cột tương ứng trên đường chéo chính.\n",
    "Sử dụng chỉ số hàng và chỉ số cột giống nhau để truy cập các phần tử trên đường chéo chính.\n"
   ]
  },
  {
   "attachments": {},
   "cell_type": "markdown",
   "metadata": {},
   "source": [
    "```mermaid\n",
    "graph TB\n",
    "  A[Start]\n",
    "  B{Check if matrix is square}\n",
    "  C[Calculate sum of main diagonal]\n",
    "  D[Return sum]\n",
    "  E[End]\n",
    "  F[Throw ValueError]\n",
    "  \n",
    "  A --> B\n",
    "  B -- Yes --> C\n",
    "  C --> D\n",
    "  D --> E\n",
    "  B -- No --> F\n",
    "\n",
    "\n",
    "```"
   ]
  },
  {
   "attachments": {},
   "cell_type": "markdown",
   "metadata": {},
   "source": [
    "Các bước thực hiện:\n",
    "\n",
    "* Kiểm tra xem ma trận có phải là ma trận vuông hay không bằng cách so sánh số hàng (len(matrix)) với số cột của ma trận đầu tiên (len(matrix[0])). Nếu không bằng nhau, hàm sẽ ném một ValueError với thông báo \"Ma trận không phải là ma trận vuông.\"\n",
    "\n",
    "* Khởi tạo biến diagonal_sum với giá trị ban đầu là 0.\n",
    "\n",
    "* Sử dụng một vòng lặp for để duyệt qua các hàng của ma trận theo chỉ số i.\n",
    "\n",
    "* Tại mỗi vòng lặp, thêm giá trị của phần tử trên đường chéo chính (matrix[i][i]) vào diagonal_sum.\n",
    "\n",
    "* Trả về tổng các phần tử trên đường chéo chính (diagonal_sum).\n",
    "\n",
    "Sau đó, hàm sum_main_diagonal được gọi để tính tổng các phần tử trên đường chéo chính của ma trận matrix đã được định nghĩa trước đó. Kết quả được in ra màn hình"
   ]
  },
  {
   "cell_type": "code",
   "execution_count": 3,
   "metadata": {},
   "outputs": [
    {
     "name": "stdout",
     "output_type": "stream",
     "text": [
      "15\n"
     ]
    }
   ],
   "source": [
    "def sum_main_diagonal(matrix):\n",
    "    # Kiểm tra xem ma trận có phải là ma trận vuông hay không\n",
    "    if len(matrix) != len(matrix[0]):\n",
    "        raise ValueError(\"Ma trận không phải là ma trận vuông.\")\n",
    "\n",
    "    diagonal_sum = 0\n",
    "    # Tính tổng các phần tử trên đường chéo chính của ma trận\n",
    "    for i in range(len(matrix)):\n",
    "        diagonal_sum += matrix[i][i]\n",
    "\n",
    "    return diagonal_sum\n",
    "\n",
    "# Kiểm tra\n",
    "matrix = [\n",
    "    [1, 2, 3],\n",
    "    [4, 5, 6],\n",
    "    [7, 8, 9]\n",
    "]\n",
    "print(sum_main_diagonal(matrix))  # Output: 15\n"
   ]
  },
  {
   "attachments": {},
   "cell_type": "markdown",
   "metadata": {},
   "source": [
    "## Bài tập 2: Sắp xếp theo tổng hàng\n",
    "Viết một chương trình Python để sắp xếp một ma trận (mảng hai chiều) đã cho theo tổng của các phần tử trong mỗi hàng. Tổng của một hàng được tính bằng cách cộng tất cả các phần tử trong hàng đó. Sau khi sắp xếp, các hàng có tổng nhỏ nhất sẽ xuất hiện đầu tiên trong ma trận.\n",
    "\n",
    "Ví dụ:\n",
    "```\n",
    "matrix = [\n",
    "    [4, 2, 7],\n",
    "    [1, 5, 6],\n",
    "    [3, 8, 2]\n",
    "]\n",
    "```\n",
    "Sau khi sắp xếp, ma trận trở thành:\n",
    "```\n",
    "matrix = [\n",
    "    [1, 5, 6],\n",
    "    [3, 8, 2],\n",
    "    [4, 2, 7]\n",
    "]\n",
    "```\n",
    "\n",
    "Gợi ý:\n",
    "Tạo một danh sách các cặp (tổng hàng, hàng) để lưu trữ tổng của mỗi hàng và hàng tương ứng.\n",
    "Sử dụng hàm sorted() trong Python để sắp xếp danh sách theo tổng hàng.\n",
    "Lặp qua các cặp đã sắp xếp để tạo lại ma trận ban đầu theo thứ tự đã sắp xếp."
   ]
  },
  {
   "attachments": {},
   "cell_type": "markdown",
   "metadata": {},
   "source": [
    "```mermaid\n",
    "graph TB\n",
    "  A[Start]\n",
    "  B[Calculate row sums and pair with corresponding row]\n",
    "  C[Sort rows based on sums]\n",
    "  D[Extract sorted rows from pairs]\n",
    "  E[Return sorted matrix]\n",
    "  F[End]\n",
    "\n",
    "  A --> B\n",
    "  B --> C\n",
    "  C --> D\n",
    "  D --> E\n",
    "  E --> F\n",
    "\n",
    "```\n",
    "\n",
    "Cách hoạt động của hàm là:\n",
    "\n",
    "* Tạo một danh sách gồm các cặp (tổng hàng, hàng) bằng cách tính tổng của mỗi hàng trong ma trận.\n",
    "\n",
    "* Sắp xếp danh sách các cặp (tổng hàng, hàng) theo tổng hàng, sử dụng hàm sorted và truyền lambda function key=lambda x: x[0] để sắp xếp theo phần tử đầu tiên của từng cặp (tổng hàng).\n",
    "\n",
    "* Tạo một ma trận mới từ các hàng đã được sắp xếp, bằng cách lấy phần thứ hai của mỗi cặp (hàng) trong danh sách đã sắp xếp.\n",
    "\n",
    "* Trả về ma trận đã sắp xếp.\n",
    "\n",
    "Sau đó, hàm sort_by_row_sum được gọi để sắp xếp ma trận matrix đã được định nghĩa trước đó. Kết quả được lưu vào biến sorted_matrix, và mỗi hàng của ma trận đã sắp xếp được in ra dưới dạng các dòng riêng biệt."
   ]
  },
  {
   "cell_type": "code",
   "execution_count": 2,
   "metadata": {},
   "outputs": [
    {
     "name": "stdout",
     "output_type": "stream",
     "text": [
      "[(12, [1, 5, 6]), (13, [4, 2, 7]), (13, [3, 8, 2])]\n",
      "[1, 5, 6]\n",
      "[4, 2, 7]\n",
      "[3, 8, 2]\n"
     ]
    }
   ],
   "source": [
    "def sort_by_row_sum(matrix):\n",
    "    # Tính tổng của mỗi hàng trong ma trận và lưu vào một danh sách gồm các cặp (tổng hàng, hàng)\n",
    "    row_sums = [(sum(row), row) for row in matrix]\n",
    "    \n",
    "    # Sắp xếp danh sách các cặp (tổng hàng, hàng) theo tổng hàng\n",
    "    sorted_rows = sorted(row_sums, key=lambda x: x[0])\n",
    "    print(sorted_rows)\n",
    "    \n",
    "    # Tạo một ma trận mới với các hàng đã được sắp xếp theo tổng hàng\n",
    "    sorted_matrix = [row for _, row in sorted_rows]\n",
    "    \n",
    "    return sorted_matrix\n",
    "\n",
    "# Kiểm tra\n",
    "matrix = [\n",
    "    [4, 2, 7],\n",
    "    [1, 5, 6],\n",
    "    [3, 8, 2]\n",
    "]\n",
    "\n",
    "# Gọi hàm sort_by_row_sum để sắp xếp ma trận theo tổng hàng\n",
    "sorted_matrix = sort_by_row_sum(matrix)\n",
    "\n",
    "# In ra từng hàng trong ma trận đã sắp xếp\n",
    "for row in sorted_matrix:\n",
    "    print(row)\n"
   ]
  },
  {
   "attachments": {},
   "cell_type": "markdown",
   "metadata": {},
   "source": [
    "Cách 2:\n",
    "* Sử dụng hàm sorted để sắp xếp các hàng trong ma trận matrix.\n",
    "\n",
    "* Truyền một lambda function key=lambda row: sum(row) vào tham số key của hàm sorted, để sắp xếp các hàng dựa trên tổng của từng hàng. Lambda function này tính tổng của mỗi hàng (sum(row)) và sử dụng nó làm tiêu chí sắp xếp.\n",
    "\n",
    "* Kết quả là một ma trận mới (sorted_matrix) chứa các hàng đã được sắp xếp theo tổng hàng.\n",
    "\n",
    "* Sau đó, hàm sort_by_row_sum được gọi để sắp xếp ma trận matrix đã được định nghĩa trước đó. Kết quả được lưu vào biến sorted_matrix, và mỗi hàng của ma trận đã sắp xếp được in ra dưới dạng các dòng riêng biệt."
   ]
  },
  {
   "cell_type": "code",
   "execution_count": 5,
   "metadata": {},
   "outputs": [
    {
     "name": "stdout",
     "output_type": "stream",
     "text": [
      "[1, 5, 6]\n",
      "[4, 2, 7]\n",
      "[3, 8, 2]\n"
     ]
    }
   ],
   "source": [
    "# Cách 2\n",
    "def sort_by_row_sum(matrix):\n",
    "    # Sắp xếp các hàng trong ma trận theo tổng của từng hàng\n",
    "    sorted_matrix = sorted(matrix, key=lambda row: sum(row))\n",
    "    \n",
    "    return sorted_matrix\n",
    "\n",
    "# Kiểm tra\n",
    "matrix = [\n",
    "    [4, 2, 7],\n",
    "    [1, 5, 6],\n",
    "    [3, 8, 2]\n",
    "]\n",
    "\n",
    "# Gọi hàm sort_by_row_sum để sắp xếp ma trận theo tổng hàng\n",
    "sorted_matrix = sort_by_row_sum(matrix)\n",
    "\n",
    "# In ra từng hàng trong ma trận đã sắp xếp\n",
    "for row in sorted_matrix:\n",
    "    print(row)\n"
   ]
  },
  {
   "attachments": {},
   "cell_type": "markdown",
   "metadata": {},
   "source": [
    "## Bài tập 3: Quản lý hàng tồn kho (advanced)\n",
    "\n",
    "Một công ty có một danh sách hàng tồn kho của các sản phẩm khác nhau. Các thông tin hàng tồn kho bao gồm tên sản phẩm, số lượng trong kho, và giá bán của mỗi sản phẩm. Công ty muốn tính toán tổng giá trị của hàng tồn kho của mình.\n",
    "\n",
    "Danh sách hàng tồn kho của công ty được biểu diễn bằng một ma trận có kích thước nx3, trong đó n là số lượng sản phẩm khác nhau. Các cột trong ma trận biểu diễn tên sản phẩm, số lượng trong kho và giá bán của mỗi sản phẩm.\n",
    "\n",
    "Ví dụ, ma trận hàng tồn kho có thể nhìn như sau:\n",
    "\n",
    "Hàng tồn kho:\n",
    "```\n",
    "|    Tên    | Số lượng | Giá bán |\n",
    "|  Sản phẩm 1 |    10    |   5.0   |\n",
    "|  Sản phẩm 2 |    5     |   2.5   |\n",
    "|  Sản phẩm 3 |    3     |   8.0   |\n",
    "```\n",
    "\n",
    "Tính tổng số lượng hàng tồn kho của tất cả các sản phẩm.\n",
    "\n",
    "Tính giá trị hàng tồn kho của mỗi sản phẩm bằng cách nhân số lượng với giá bán của sản phẩm tương ứng.\n",
    "\n",
    "Tính tổng giá trị của toàn bộ hàng tồn kho.\n",
    "\n",
    "Hãy viết các phương trình hoặc mã code để giải quyết từng bài tập trên.\n"
   ]
  },
  {
   "cell_type": "code",
   "execution_count": 12,
   "metadata": {},
   "outputs": [
    {
     "name": "stdout",
     "output_type": "stream",
     "text": [
      "Tổng số lượng hàng tồn kho: 18\n",
      "Giá trị hàng tồn kho của mỗi sản phẩm: [50.0, 12.5, 24.0]\n",
      "Tổng giá trị hàng tồn kho: 86.5\n"
     ]
    }
   ],
   "source": [
    "# Ma trận hàng tồn kho\n",
    "inventory = [\n",
    "    [\"Sản phẩm 1\", 10, 5.0],\n",
    "    [\"Sản phẩm 2\", 5, 2.5],\n",
    "    [\"Sản phẩm 3\", 3, 8.0]\n",
    "]\n",
    "\n",
    "# Tính tổng số lượng hàng tồn kho của tất cả các sản phẩm\n",
    "total_quantity = sum(item[1] for item in inventory)\n",
    "print(\"Tổng số lượng hàng tồn kho:\", total_quantity)\n",
    "\n",
    "# Tính giá trị hàng tồn kho của mỗi sản phẩm\n",
    "product_values = [item[1] * item[2] for item in inventory]\n",
    "print(\"Giá trị hàng tồn kho của mỗi sản phẩm:\", product_values)\n",
    "\n",
    "# Tính tổng giá trị của toàn bộ hàng tồn kho\n",
    "total_value = sum(product_values)\n",
    "print(\"Tổng giá trị hàng tồn kho:\", total_value)\n"
   ]
  },
  {
   "attachments": {},
   "cell_type": "markdown",
   "metadata": {},
   "source": [
    "# Phần 2: List 3D"
   ]
  },
  {
   "attachments": {},
   "cell_type": "markdown",
   "metadata": {},
   "source": [
    "## Bài tập 1: Viết hàm find_max để tìm giá trị lớn nhất trong một list 3D. List 3D có thể được biểu diễn như sau:\n",
    "```\n",
    "list_3d = [\n",
    "    [\n",
    "        [1, 2, 3],\n",
    "        [4, 5, 6]\n",
    "    ],\n",
    "    [\n",
    "        [7, 8, 9],\n",
    "        [10, 11, 12]\n",
    "    ]\n",
    "]\n",
    "\n",
    "```\n",
    "\n",
    "```mermaid\n",
    "graph TB\n",
    "  A[Start]\n",
    "  B[Set max_value as first element of list]\n",
    "  C[Iterate over 3D list]\n",
    "  D{Check if current value > max_value}\n",
    "  E[Set max_value as current value]\n",
    "  F[End]\n",
    "  G[Continue]\n",
    "  \n",
    "  A --> B\n",
    "  B --> C\n",
    "  C --> D\n",
    "  D -- Yes --> E\n",
    "  E --> C\n",
    "  D -- No --> G\n",
    "  G --> C\n",
    "  C -- End of list --> F\n",
    "\n",
    "```"
   ]
  },
  {
   "attachments": {},
   "cell_type": "markdown",
   "metadata": {},
   "source": [
    "Các bước thực hiện:\n",
    "\n",
    "* Khởi tạo biến max_value với giá trị ban đầu là phần tử đầu tiên của danh sách 3D (list_3d[0][0][0]).\n",
    "\n",
    "* Sử dụng các vòng lặp để duyệt qua các phần tử trong danh sách 3D. Đầu tiên, vòng lặp for đầu tiên duyệt qua các danh sách 2D (list_2d) trong danh sách 3D (list_3d).\n",
    "\n",
    "* Trong vòng lặp for thứ hai, duyệt qua các danh sách 1D (list_1d) trong danh sách 2D hiện tại.\n",
    "\n",
    "* Trong vòng lặp for thứ ba, duyệt qua từng giá trị (value) trong danh sách 1D hiện tại.\n",
    "\n",
    "* Tại mỗi vòng lặp, so sánh giá trị hiện tại với giá trị lớn nhất hiện tại (max_value). Nếu giá trị hiện tại lớn hơn, cập nhật giá trị lớn nhất (max_value).\n",
    "\n",
    "* Sau khi hoàn thành các vòng lặp, trả về giá trị lớn nhất tìm được (max_value).\n",
    "\n",
    "Sau đó, hàm find_max được gọi để tìm giá trị lớn nhất trong danh sách 3D list_3d đã được định"
   ]
  },
  {
   "cell_type": "code",
   "execution_count": 4,
   "metadata": {},
   "outputs": [
    {
     "name": "stdout",
     "output_type": "stream",
     "text": [
      "12\n"
     ]
    }
   ],
   "source": [
    "def find_max(list_3d):\n",
    "    # Khởi tạo giá trị lớn nhất với giá trị đầu tiên của list_3d\n",
    "    max_value = list_3d[0][0][0]\n",
    "    \n",
    "    # Duyệt qua các list 2D trong list 3D\n",
    "    for list_2d in list_3d:\n",
    "        # Duyệt qua các list 1D trong list 2D\n",
    "        for list_1d in list_2d:\n",
    "            # Duyệt qua các giá trị trong list 1D\n",
    "            for value in list_1d:\n",
    "                # So sánh giá trị hiện tại với giá trị lớn nhất hiện tại\n",
    "                if value > max_value:\n",
    "                    # Nếu giá trị hiện tại lớn hơn, cập nhật giá trị lớn nhất\n",
    "                    max_value = value\n",
    "    \n",
    "    return max_value\n",
    "\n",
    "list_3d = [\n",
    "    [\n",
    "        [1, 2, 3],\n",
    "        [4, 5, 6]\n",
    "    ],\n",
    "    [\n",
    "        [7, 8, 9],\n",
    "        [10, 11, 12]\n",
    "    ]\n",
    "]\n",
    "\n",
    "print(find_max(list_3d))  # Output: 12\n"
   ]
  },
  {
   "attachments": {},
   "cell_type": "markdown",
   "metadata": {},
   "source": [
    "## Bài tập 2: Viết hàm flatten_3d_list để làm phẳng một list 3D thành một list 1D (danh sách một chiều). Sử dụng cùng list 3D trong bài tập 1, hàm flatten_3d_list nên trả về:\n",
    "\n",
    "```\n",
    "[1, 2, 3, 4, 5, 6, 7, 8, 9, 10, 11, 12]\n",
    "\n",
    "```\n",
    "Lưu ý: Hãy cố gắng sử dụng nested for loops (vòng lặp for lồng nhau) hoặc list comprehension để giải quyết các bài tập này.\n",
    "\n",
    "```mermaid\n",
    "graph TB\n",
    "  A[Start]\n",
    "  B[Initialize empty flattened_list]\n",
    "  C[Iterate over 3D list]\n",
    "  D[Append current value to flattened_list]\n",
    "  E[End]\n",
    "  \n",
    "  A --> B\n",
    "  B --> C\n",
    "  C --> D\n",
    "  D --> C\n",
    "  C -- End of list --> E\n",
    "\n",
    "```"
   ]
  },
  {
   "attachments": {},
   "cell_type": "markdown",
   "metadata": {},
   "source": [
    "Các bước thực hiện:\n",
    "\n",
    "* Khởi tạo một danh sách mới (flattened_list) để lưu các giá trị đã được làm phẳng.\n",
    "\n",
    "* Sử dụng các vòng lặp để duyệt qua các phần tử trong danh sách 3D. Đầu tiên, vòng lặp for đầu tiên duyệt qua các danh sách 2D (list_2d) trong danh sách 3D (list_3d).\n",
    "\n",
    "* Trong vòng lặp for thứ hai, duyệt qua các danh sách 1D (list_1d) trong danh sách 2D hiện tại.\n",
    "\n",
    "* Trong vòng lặp for thứ ba, duyệt qua từng giá trị (value) trong danh sách 1D hiện tại.\n",
    "\n",
    "* Tại mỗi vòng lặp, thêm giá trị vào danh sách đã làm phẳng (flattened_list) bằng cách sử dụng phương thức append.\n",
    "\n",
    "* Sau khi hoàn thành các vòng lặp, trả về danh sách đã làm phẳng (flattened_list).\n",
    "\n",
    "Sau đó, hàm flatten_3d_list được gọi để làm phẳng danh sách 3D list_3d đã được định nghĩa trước đó. Kết quả được in ra màn hình. "
   ]
  },
  {
   "cell_type": "code",
   "execution_count": 8,
   "metadata": {},
   "outputs": [
    {
     "name": "stdout",
     "output_type": "stream",
     "text": [
      "[1, 2, 3, 4, 5, 6, 7, 8, 9, 10, 11, 12]\n"
     ]
    }
   ],
   "source": [
    "def flatten_3d_list(list_3d):\n",
    "    # Khởi tạo danh sách mới để lưu các giá trị đã được làm phẳng\n",
    "    flattened_list = []\n",
    "    \n",
    "    # Duyệt qua các danh sách 2D trong danh sách 3D\n",
    "    for list_2d in list_3d:\n",
    "        # Duyệt qua các danh sách 1D trong danh sách 2D\n",
    "        for list_1d in list_2d:\n",
    "            # Duyệt qua từng giá trị trong danh sách 1D\n",
    "            for value in list_1d:\n",
    "                # Thêm giá trị vào danh sách đã làm phẳng\n",
    "                flattened_list.append(value)\n",
    "    \n",
    "    return flattened_list\n",
    "\n",
    "list_3d = [\n",
    "    [\n",
    "        [1, 2, 3],\n",
    "        [4, 5, 6]\n",
    "    ],\n",
    "    [\n",
    "        [7, 8, 9],\n",
    "        [10, 11, 12]\n",
    "    ]\n",
    "]\n",
    "\n",
    "print(flatten_3d_list(list_3d))  # Output: [1, 2, 3, 4, 5, 6, 7, 8, 9, 10, 11, 12]\n"
   ]
  },
  {
   "attachments": {},
   "cell_type": "markdown",
   "metadata": {},
   "source": [
    "## (Advanced) Bài tập 3: Xoay list 3D theo chiều kim đồng hồ\n",
    "Hãy viết một hàm rotate_3d_clockwise nhận vào một list 3D và trả về list 3D đã được xoay 90 độ theo chiều kim đồng hồ. Giả sử rằng kích thước của các list con luôn đồng nhất.\n",
    "\n",
    "Ví dụ: \n",
    "```\n",
    "input:\n",
    "list_3d = [\n",
    "    [[1, 2, 3], [4, 5, 6]],\n",
    "    [[7, 8, 9], [10, 11, 12]]\n",
    "]\n",
    "\n",
    "output:\n",
    "[\n",
    "    [[[7, 8, 9], [1, 2, 3]],\n",
    "     [[10, 11, 12], [4, 5, 6]]]\n",
    "]\n",
    "\n",
    "```\n",
    "```mermaid\n",
    "graph TB\n",
    "  A[Start]\n",
    "  B[Iterate over and unzip 3D list]\n",
    "  C[Reverse each unzipped list]\n",
    "  D[Return rotated 3D list]\n",
    "  E[End]\n",
    "\n",
    "  A --> B\n",
    "  B --> C\n",
    "  C --> D\n",
    "  D --> E\n",
    "```\n"
   ]
  },
  {
   "attachments": {},
   "cell_type": "markdown",
   "metadata": {},
   "source": [
    "Các bước thực hiện:\n",
    "\n",
    "* Sử dụng zip(*list_3d) để tạo ra các tuple chứa phần tử tương ứng từ các list con trong list_3d. Kết quả là một danh sách mới, trong đó mỗi phần tử là một tuple chứa các phần tử tương ứng từ các list con.\n",
    "\n",
    "* Sử dụng reversed để đảo ngược thứ tự các phần tử trong mỗi tuple.\n",
    "\n",
    "* Sử dụng list để chuyển đổi mỗi tuple đã đảo ngược thành một list.\n",
    "\n",
    "* Kết quả là một danh sách mới, trong đó mỗi phần tử là một list con đã được quay theo chiều kim đồng hồ.\n",
    "\n",
    "Hàm trả về danh sách đã quay. Sau đó, hàm rotate_3d_clockwise được gọi để quay ma trận 3D list_3d đã được định nghĩa trước đó. Kết quả được in ra màn hình."
   ]
  },
  {
   "cell_type": "code",
   "execution_count": 5,
   "metadata": {},
   "outputs": [
    {
     "name": "stdout",
     "output_type": "stream",
     "text": [
      "[[[7, 8, 9], [1, 2, 3]], [[10, 11, 12], [4, 5, 6]]]\n"
     ]
    }
   ],
   "source": [
    "def rotate_3d_clockwise(list_3d):\n",
    "    # Sử dụng zip và reversed để quay ma trận 3D theo chiều kim đồng hồ\n",
    "    # list(reversed(x)) sẽ tạo ra một bản sao của mỗi list con trong list_3d và đảo ngược thứ tự các phần tử trong mỗi list con.\n",
    "    # zip(*list_3d) sẽ tạo ra các tuple chứa phần tử tương ứng từ các list con trong list_3d.\n",
    "    # Kết quả là một danh sách mới mà mỗi phần tử là một list đã được quay theo chiều kim đồng hồ.\n",
    "    return [list(reversed(x)) for x in zip(*list_3d)]\n",
    "\n",
    "list_3d = [\n",
    "    [[1, 2, 3], [4, 5, 6]],\n",
    "    [[7, 8, 9], [10, 11, 12]]\n",
    "]\n",
    "\n",
    "print(rotate_3d_clockwise(list_3d))\n"
   ]
  },
  {
   "attachments": {},
   "cell_type": "markdown",
   "metadata": {},
   "source": [
    "# Phần 3 Numpy"
   ]
  },
  {
   "attachments": {},
   "cell_type": "markdown",
   "metadata": {},
   "source": [
    "## 1D array Basic"
   ]
  },
  {
   "attachments": {},
   "cell_type": "markdown",
   "metadata": {},
   "source": [
    "### 1. Bạn hãy tạo 1D array gồm 5 phần tử [1, 2, 3, 4, 5]. Sau đó in ra màn hình 1D array vừa tạo ?"
   ]
  },
  {
   "cell_type": "code",
   "execution_count": 15,
   "metadata": {},
   "outputs": [
    {
     "name": "stdout",
     "output_type": "stream",
     "text": [
      "[1 2 3 4 5]\n"
     ]
    }
   ],
   "source": [
    "import numpy as np\n",
    "\n",
    "# Tạo mảng 1D\n",
    "array_1d = np.array([1, 2, 3, 4, 5])\n",
    "\n",
    "# In mảng\n",
    "print(array_1d)\n"
   ]
  },
  {
   "attachments": {},
   "cell_type": "markdown",
   "metadata": {},
   "source": [
    "### 2. Bạn hãy xây dựng chương trình thực hiện tính tổng các phần tử trong 1D array?\n",
    "Input: my_arr = [1, 2, 3, 4, 5]\n",
    "Output: 15\n",
    "\n",
    "\n",
    "Để tính tổng các phần tử trong một mảng 1 chiều, bạn có thể sử dụng hàm `np.sum()`"
   ]
  },
  {
   "cell_type": "code",
   "execution_count": 16,
   "metadata": {},
   "outputs": [
    {
     "name": "stdout",
     "output_type": "stream",
     "text": [
      "15\n"
     ]
    }
   ],
   "source": [
    "import numpy as np\n",
    "\n",
    "# Tạo mảng 1D\n",
    "my_arr = np.array([1, 2, 3, 4, 5])\n",
    "\n",
    "# Tính tổng các phần tử trong mảng\n",
    "sum_of_elements = np.sum(my_arr)\n",
    "\n",
    "# In kết quả\n",
    "print(sum_of_elements)\n"
   ]
  },
  {
   "attachments": {},
   "cell_type": "markdown",
   "metadata": {},
   "source": [
    "### 3. Bạn hãy xây dựng chương trình tìm giá trị lớn nhất và nhỏ nhất trong 1d array?\n",
    "Input: my_arr = [1, 2, 3, 4, 5]\n",
    "\n",
    "Output: max = 5, min = 1\n",
    "\n",
    "Gợi ý: Để tìm giá trị lớn nhất và nhỏ nhất trong một mảng 1 chiều, bạn có thể sử dụng hai hàm là np.max() và np.min()."
   ]
  },
  {
   "cell_type": "code",
   "execution_count": 17,
   "metadata": {},
   "outputs": [
    {
     "name": "stdout",
     "output_type": "stream",
     "text": [
      "max = 5\n",
      "min = 1\n"
     ]
    }
   ],
   "source": [
    "import numpy as np\n",
    "\n",
    "# Tạo mảng 1D\n",
    "my_arr = np.array([1, 2, 3, 4, 5])\n",
    "\n",
    "# Tìm giá trị lớn nhất\n",
    "max_value = np.max(my_arr)\n",
    "\n",
    "# Tìm giá trị nhỏ nhất\n",
    "min_value = np.min(my_arr)\n",
    "\n",
    "# In kết quả\n",
    "print(\"max =\", max_value)\n",
    "print(\"min =\", min_value)\n"
   ]
  },
  {
   "attachments": {},
   "cell_type": "markdown",
   "metadata": {},
   "source": [
    "### 4. Bạn hãy xây dựng chương trình tính trung bình cộng của 1D array?\n",
    "Input: my_array = [1, 2, 3, 4, 5]\n",
    "Output: 3.0\n",
    "\n",
    "Gợi ý: Để tính trung bình cộng của các phần tử trong một mảng 1 chiều, bạn có thể sử dụng hàm `np.mean()`"
   ]
  },
  {
   "cell_type": "code",
   "execution_count": 18,
   "metadata": {},
   "outputs": [
    {
     "name": "stdout",
     "output_type": "stream",
     "text": [
      "3.0\n"
     ]
    }
   ],
   "source": [
    "import numpy as np\n",
    "\n",
    "# Tạo mảng 1D\n",
    "my_array = np.array([1, 2, 3, 4, 5])\n",
    "\n",
    "# Tính trung bình cộng\n",
    "mean_value = np.mean(my_array)\n",
    "\n",
    "# In kết quả\n",
    "print(mean_value)\n"
   ]
  },
  {
   "attachments": {},
   "cell_type": "markdown",
   "metadata": {},
   "source": [
    "### 5. Bạn hãy xây dựng chương trình sắp xếp 1D array sau theo chiều tăng dần hoặc giảm dần?\n",
    "Input: my_array = [5, 3, 1, 4, 2]\n",
    "Output: tăng dần [1, 2, 3, 4, 5], giảm dần: [5, 4, 3, 2, 1]\n",
    "\n",
    "Gợi ý: Để sắp xếp một mảng 1 chiều, bạn có thể sử dụng hàm np.sort(). Để sắp xếp theo chiều giảm dần, bạn có thể sử dụng cú pháp slicing để đảo ngược mảng đã sắp xếp tăng dần."
   ]
  },
  {
   "cell_type": "code",
   "execution_count": 6,
   "metadata": {},
   "outputs": [
    {
     "name": "stdout",
     "output_type": "stream",
     "text": [
      "tăng dần: [1 2 3 4 5]\n",
      "giảm dần: [5 4 3 2 1]\n"
     ]
    }
   ],
   "source": [
    "import numpy as np\n",
    "\n",
    "# Tạo mảng 1D\n",
    "my_array = np.array([5, 3, 1, 4, 2])\n",
    "\n",
    "# Sắp xếp tăng dần\n",
    "ascending = np.sort(my_array)\n",
    "\n",
    "# Sắp xếp giảm dần\n",
    "descending = ascending[::-1]\n",
    "\n",
    "# In kết quả\n",
    "print(\"tăng dần:\", ascending)\n",
    "print(\"giảm dần:\", descending)\n"
   ]
  },
  {
   "attachments": {},
   "cell_type": "markdown",
   "metadata": {},
   "source": [
    "### 6. Bạn hãy xây dựng chương trình tổng các phần tử trên các vị trí chẵn hoặc lẻ?\n",
    "Input: my_array = [1, 2, 3, 4, 5]\n",
    "Output: even = 6, odd =9\n",
    "\n",
    "Gợi ý: Để tính tổng các phần tử ở vị trí chẵn hoặc lẻ trong mảng, bạn có thể sử dụng slicing trong Numpy"
   ]
  },
  {
   "cell_type": "code",
   "execution_count": 20,
   "metadata": {},
   "outputs": [
    {
     "name": "stdout",
     "output_type": "stream",
     "text": [
      "even = 9\n",
      "odd = 6\n"
     ]
    }
   ],
   "source": [
    "import numpy as np\n",
    "\n",
    "# Tạo mảng 1D\n",
    "my_array = np.array([1, 2, 3, 4, 5])\n",
    "\n",
    "# Tính tổng các phần tử ở vị trí chẵn (0-based index)\n",
    "even_sum = np.sum(my_array[::2])\n",
    "\n",
    "# Tính tổng các phần tử ở vị trí lẻ\n",
    "odd_sum = np.sum(my_array[1::2])\n",
    "\n",
    "# In kết quả\n",
    "print(\"even =\", even_sum)\n",
    "print(\"odd =\", odd_sum)\n"
   ]
  },
  {
   "attachments": {},
   "cell_type": "markdown",
   "metadata": {},
   "source": [
    "## 1D array Advance"
   ]
  },
  {
   "attachments": {},
   "cell_type": "markdown",
   "metadata": {},
   "source": [
    "### 1. Bạn hãy xây dựng chương trình tìm các số chẵn trong array và tính tổng của chúng ?\n",
    "Input: my_array = [1, 2, 3, 4, 5, 6, 7, 8, 9, 10]\n",
    "\n",
    "Output: even_numbers = [2, 4, 6, 8, 10], sum_even = 30\n",
    "\n",
    "Gợi ý: \n",
    "Để thực hiện điều này, bạn có thể sử dụng Boolean Indexing trong Numpy để lọc ra các số chẵn và sau đó tính tổng của chúng"
   ]
  },
  {
   "cell_type": "code",
   "execution_count": 21,
   "metadata": {},
   "outputs": [
    {
     "name": "stdout",
     "output_type": "stream",
     "text": [
      "even_numbers = [ 2  4  6  8 10]\n",
      "sum_even = 30\n"
     ]
    }
   ],
   "source": [
    "import numpy as np\n",
    "\n",
    "# Tạo mảng 1D\n",
    "my_array = np.array([1, 2, 3, 4, 5, 6, 7, 8, 9, 10])\n",
    "\n",
    "# Lọc ra các số chẵn\n",
    "even_numbers = my_array[my_array % 2 == 0]\n",
    "\n",
    "# Tính tổng các số chẵn\n",
    "sum_even = np.sum(even_numbers)\n",
    "\n",
    "# In kết quả\n",
    "print(\"even_numbers =\", even_numbers)\n",
    "print(\"sum_even =\", sum_even)\n"
   ]
  },
  {
   "attachments": {},
   "cell_type": "markdown",
   "metadata": {},
   "source": [
    "### 2.  Bạn hãy xây dựng chương trình tính tổng của các số nguyên tố trong array?\n",
    "Input: my_array = [2, 3, 4, 5, 6, 7, 8, 9, 10]\n",
    "\n",
    "Output: prime_numbers = [2, 3, 5, 7], sum_prime = 17\n",
    "\n",
    "Để giải bài toán này, trước hết chúng ta cần định nghĩa hàm để kiểm tra một số có phải là số nguyên tố hay không. Sau đó, chúng ta sẽ sử dụng hàm này để lọc ra các số nguyên tố từ mảng và tính tổng của chúng.\n",
    "\n",
    "Các bước thực hiện:\n",
    "\n",
    "* Hàm is_prime để kiểm tra xem một số n có phải là số nguyên tố hay không. Mô tả chức năng của hàm đã được cung cấp trong docstring.\n",
    "\n",
    "* Tạo một mảng 1D (my_array) bằng cách sử dụng np.array và cung cấp các giá trị.\n",
    "\n",
    "* Sử dụng hàm np.vectorize kết hợp với is_prime để áp dụng kiểm tra số nguyên tố lên từng phần tử của my_array. Kết quả là một mảng Boolean, trong đó giá trị True tương ứng với số nguyên tố và False tương ứng với số không phải là số nguyên tố.\n",
    "\n",
    "* Sử dụng mảng Boolean trên (prime_numbers) làm chỉ mục để lọc ra các số nguyên tố từ my_array.\n",
    "\n",
    "* Sử dụng np.sum để tính tổng các số nguyên tố trong prime_numbers.\n",
    "\n",
    "Sử dụng print để in kết quả, bao gồm mảng các số nguyên tố (prime_numbers) và tổng các số nguyên tố (sum_prime)."
   ]
  },
  {
   "cell_type": "code",
   "execution_count": 22,
   "metadata": {},
   "outputs": [
    {
     "name": "stdout",
     "output_type": "stream",
     "text": [
      "prime_numbers = [2 3 5 7]\n",
      "sum_prime = 17\n"
     ]
    }
   ],
   "source": [
    "import numpy as np\n",
    "\n",
    "def is_prime(n):\n",
    "    \"\"\"Kiểm tra n có phải là số nguyên tố không\"\"\"\n",
    "    if n < 2:\n",
    "        return False\n",
    "    for i in range(2, int(np.sqrt(n)) + 1):\n",
    "        if n % i == 0:\n",
    "            return False\n",
    "    return True\n",
    "\n",
    "# Tạo mảng 1D\n",
    "my_array = np.array([2, 3, 4, 5, 6, 7, 8, 9, 10])\n",
    "\n",
    "# Lọc ra các số nguyên tố\n",
    "prime_numbers = my_array[np.vectorize(is_prime)(my_array)]\n",
    "\n",
    "# Tính tổng các số nguyên tố\n",
    "sum_prime = np.sum(prime_numbers)\n",
    "\n",
    "# In kết quả\n",
    "print(\"prime_numbers =\", prime_numbers)\n",
    "print(\"sum_prime =\", sum_prime)\n"
   ]
  },
  {
   "attachments": {},
   "cell_type": "markdown",
   "metadata": {},
   "source": [
    "### 3. Bạn hãy xây dựng chương trình tính tổng các số dương và tích các số âm trong array?\n",
    "Input: my_array = [-1, 2, -3, 4, -5, 6]\n",
    "\n",
    "Output:  sum_positive = 12, product_negative = -15\n",
    "\n",
    "Để tính tổng các số dương và tích các số âm trong mảng, bạn có thể sử dụng Boolean Indexing trong Numpy để lọc ra các số dương và số âm, sau đó tính tổng và tích tương ứng."
   ]
  },
  {
   "cell_type": "code",
   "execution_count": 23,
   "metadata": {},
   "outputs": [
    {
     "name": "stdout",
     "output_type": "stream",
     "text": [
      "sum_positive = 12\n",
      "product_negative = -15\n"
     ]
    }
   ],
   "source": [
    "import numpy as np\n",
    "\n",
    "# Tạo mảng 1D\n",
    "my_array = np.array([-1, 2, -3, 4, -5, 6])\n",
    "\n",
    "# Lọc ra các số dương\n",
    "positive_numbers = my_array[my_array > 0]\n",
    "\n",
    "# Tính tổng các số dương\n",
    "sum_positive = np.sum(positive_numbers)\n",
    "\n",
    "# Lọc ra các số âm\n",
    "negative_numbers = my_array[my_array < 0]\n",
    "\n",
    "# Tính tích các số âm\n",
    "product_negative = np.product(negative_numbers)\n",
    "\n",
    "# In kết quả\n",
    "print(\"sum_positive =\", sum_positive)\n",
    "print(\"product_negative =\", product_negative)\n"
   ]
  },
  {
   "attachments": {},
   "cell_type": "markdown",
   "metadata": {},
   "source": [
    "### 4. Bạn hãy xây dựng chương trình tính tổng các số trong array sau khi loại bỏ các số trùng lặp?\n",
    "Input: my_array = [1, 2, 3, 2, 4, 5, 1, 6, 7, 8, 5]\n",
    "Output: unique_numbers = [1, 2, 3, 4, 5, 6, 7, 8], sum_unique =36"
   ]
  },
  {
   "cell_type": "code",
   "execution_count": 24,
   "metadata": {},
   "outputs": [
    {
     "name": "stdout",
     "output_type": "stream",
     "text": [
      "unique_numbers = [1 2 3 4 5 6 7 8]\n",
      "sum_unique = 36\n"
     ]
    }
   ],
   "source": [
    "import numpy as np\n",
    "\n",
    "# Tạo mảng 1D\n",
    "my_array = np.array([1, 2, 3, 2, 4, 5, 1, 6, 7, 8, 5])\n",
    "\n",
    "# Loại bỏ các số trùng lặp\n",
    "unique_numbers = np.unique(my_array)\n",
    "\n",
    "# Tính tổng các số duy nhất\n",
    "sum_unique = np.sum(unique_numbers)\n",
    "\n",
    "# In kết quả\n",
    "print(\"unique_numbers =\", unique_numbers)\n",
    "print(\"sum_unique =\", sum_unique)\n"
   ]
  },
  {
   "attachments": {},
   "cell_type": "markdown",
   "metadata": {},
   "source": [
    "## 2D array basic"
   ]
  },
  {
   "attachments": {},
   "cell_type": "markdown",
   "metadata": {},
   "source": [
    "1. Bạn hãy xây dựng chương trình tính tổng các phần tử trong array 2D?\n",
    "\n",
    "Input: my_array = [[1, 2, 3], [4, 5, 6], [7, 8, 9]]\n",
    "\n",
    "Output: total = 45\n",
    "\n",
    "Gợi ý: \n",
    "Để tính tổng các phần tử trong một mảng 2D, bạn có thể sử dụng hàm np.sum()"
   ]
  },
  {
   "cell_type": "code",
   "execution_count": 25,
   "metadata": {},
   "outputs": [
    {
     "name": "stdout",
     "output_type": "stream",
     "text": [
      "total = 45\n"
     ]
    }
   ],
   "source": [
    "import numpy as np\n",
    "\n",
    "# Tạo mảng 2D\n",
    "my_array = np.array([[1, 2, 3], [4, 5, 6], [7, 8, 9]])\n",
    "\n",
    "# Tính tổng các phần tử\n",
    "total = np.sum(my_array)\n",
    "\n",
    "# In kết quả\n",
    "print(\"total =\", total)\n"
   ]
  },
  {
   "attachments": {},
   "cell_type": "markdown",
   "metadata": {},
   "source": [
    "### 2. Bạn hãy xây dựng chương trình tìm giá trị lớn nhất và nhỏ nhất trong 2D array?\n",
    "Input: my_array = [[1, 2, 3], [4, 5, 6], [7, 8, 9]]\n",
    "\n",
    "Output: max_value = 9, min_value = 1"
   ]
  },
  {
   "cell_type": "code",
   "execution_count": 26,
   "metadata": {},
   "outputs": [
    {
     "name": "stdout",
     "output_type": "stream",
     "text": [
      "max_value = 9\n",
      "min_value = 1\n"
     ]
    }
   ],
   "source": [
    "import numpy as np\n",
    "\n",
    "# Tạo mảng 2D\n",
    "my_array = np.array([[1, 2, 3], [4, 5, 6], [7, 8, 9]])\n",
    "\n",
    "# Tìm giá trị lớn nhất\n",
    "max_value = np.max(my_array)\n",
    "\n",
    "# Tìm giá trị nhỏ nhất\n",
    "min_value = np.min(my_array)\n",
    "\n",
    "# In kết quả\n",
    "print(\"max_value =\", max_value)\n",
    "print(\"min_value =\", min_value)\n"
   ]
  },
  {
   "attachments": {},
   "cell_type": "markdown",
   "metadata": {},
   "source": [
    "### 3. Bạn hãy xây dựng chương trình tính trung bình cộng của 2D array?\n",
    "\n",
    "Input: my_array = [[1, 2, 3], [4, 5, 6], [7, 8, 9]]\n",
    "\n",
    "Output: average = 5.0"
   ]
  },
  {
   "cell_type": "code",
   "execution_count": 27,
   "metadata": {},
   "outputs": [
    {
     "name": "stdout",
     "output_type": "stream",
     "text": [
      "average = 5.0\n"
     ]
    }
   ],
   "source": [
    "import numpy as np\n",
    "\n",
    "# Tạo mảng 2D\n",
    "my_array = np.array([[1, 2, 3], [4, 5, 6], [7, 8, 9]])\n",
    "\n",
    "# Tính trung bình cộng\n",
    "average = np.mean(my_array)\n",
    "\n",
    "# In kết quả\n",
    "print(\"average =\", average)\n"
   ]
  },
  {
   "attachments": {},
   "cell_type": "markdown",
   "metadata": {},
   "source": [
    "### 4. Bạn hãy xây dựng chương trình sắp xếp danh sách 2D theo thứ tự tăng dần hoặc giảm dần?\n",
    "\n",
    "Input: my_list = [[5, 3, 1], [4, 2, 6], [9, 7, 8]]\n",
    "\n",
    "Output: sorted_list = [[1, 3, 5], [2, 4, 6], [7, 8, 9]], \n",
    "reverse_sorted_list = [[5, 3, 1], [6, 4, 2], [9, 8, 7]]\n",
    "\n",
    "Gợi ý: Để sắp xếp mảng 2D theo thứ tự tăng dần hoặc giảm dần, bạn có thể sử dụng hàm np.sort(). Tuy nhiên, cần chú ý rằng hàm này sắp xếp các hàng riêng lẻ, chứ không sắp xếp toàn bộ mảng như một đơn vị"
   ]
  },
  {
   "cell_type": "code",
   "execution_count": 28,
   "metadata": {},
   "outputs": [
    {
     "name": "stdout",
     "output_type": "stream",
     "text": [
      "sorted_array =\n",
      " [[1 3 5]\n",
      " [2 4 6]\n",
      " [7 8 9]]\n",
      "reverse_sorted_array =\n",
      " [[5 3 1]\n",
      " [6 4 2]\n",
      " [9 8 7]]\n"
     ]
    }
   ],
   "source": [
    "import numpy as np\n",
    "\n",
    "# Tạo mảng 2D\n",
    "my_array = np.array([[5, 3, 1], [4, 2, 6], [9, 7, 8]])\n",
    "\n",
    "# Sắp xếp mảng tăng dần\n",
    "sorted_array = np.sort(my_array, axis=1)\n",
    "\n",
    "# Sắp xếp mảng giảm dần\n",
    "reverse_sorted_array = -np.sort(-my_array, axis=1)\n",
    "\n",
    "# In kết quả\n",
    "print(\"sorted_array =\\n\", sorted_array)\n",
    "print(\"reverse_sorted_array =\\n\", reverse_sorted_array)\n"
   ]
  },
  {
   "attachments": {},
   "cell_type": "markdown",
   "metadata": {},
   "source": [
    "## 2D Advanced"
   ]
  },
  {
   "attachments": {},
   "cell_type": "markdown",
   "metadata": {},
   "source": [
    "### 1. Bạn hãy xây dựng chương trình tính tổng các phần tử trong mỗi hàng và tính tổng của các tổng hàng?\n",
    "\n",
    "Input: my_array = [[1, 2, 3], [4, 5, 6], [7, 8, 9]]\n",
    "\n",
    "Output: row_sums= [6, 15, 24], total_sum = 45\n",
    "\n",
    "Gợi ý: \n",
    "Để tính tổng các phần tử trong mỗi hàng và tổng của các tổng hàng trong một mảng 2D, bạn có thể sử dụng hàm np.sum()"
   ]
  },
  {
   "cell_type": "code",
   "execution_count": 33,
   "metadata": {},
   "outputs": [
    {
     "name": "stdout",
     "output_type": "stream",
     "text": [
      "row_sums = [ 6 15 24]\n",
      "total_sum = 45\n"
     ]
    }
   ],
   "source": [
    "import numpy as np\n",
    "\n",
    "# Tạo mảng 2D\n",
    "my_array = np.array([[1, 2, 3], [4, 5, 6], [7, 8, 9]])\n",
    "\n",
    "# Tính tổng các phần tử trong mỗi hàng\n",
    "row_sums = np.sum(my_array, axis=1)\n",
    "\n",
    "# Tính tổng của các tổng hàng\n",
    "total_sum = np.sum(row_sums)\n",
    "\n",
    "# In kết quả\n",
    "print(\"row_sums =\", row_sums)\n",
    "print(\"total_sum =\", total_sum)\n"
   ]
  },
  {
   "attachments": {},
   "cell_type": "markdown",
   "metadata": {},
   "source": [
    "### 2. Bạn hãy xây dựng chương trình tính tổng các phần tử trong mỗi cột và tính tổng của các tổng cột?\n",
    "Input: my_array = [[1, 2, 3], [4, 5, 6], [7, 8, 9]]\n",
    "\n",
    "Output: column_sums = [12, 15, 18], total_sum = 45\n",
    "\n",
    "gợi: Để tính tổng các phần tử trong mỗi cột và tổng của các tổng cột trong một mảng 2D, bạn có thể sử dụng hàm np.sum()"
   ]
  },
  {
   "cell_type": "code",
   "execution_count": 34,
   "metadata": {},
   "outputs": [
    {
     "name": "stdout",
     "output_type": "stream",
     "text": [
      "column_sums = [12 15 18]\n",
      "total_sum = 45\n"
     ]
    }
   ],
   "source": [
    "import numpy as np\n",
    "\n",
    "# Tạo mảng 2D\n",
    "my_array = np.array([[1, 2, 3], [4, 5, 6], [7, 8, 9]])\n",
    "\n",
    "# Tính tổng các phần tử trong mỗi cột\n",
    "column_sums = np.sum(my_array, axis=0)\n",
    "\n",
    "# Tính tổng của các tổng cột\n",
    "total_sum = np.sum(column_sums)\n",
    "\n",
    "# In kết quả\n",
    "print(\"column_sums =\", column_sums)\n",
    "print(\"total_sum =\", total_sum)\n"
   ]
  },
  {
   "attachments": {},
   "cell_type": "markdown",
   "metadata": {},
   "source": [
    "### 3. Bạn hãy xây dựng chương trình tìm phần tử lớn nhất và vị trí của phần tử đó trong 2D array?\n",
    "Input: my_array = [[1, 2, 3], [4, 9, 6], [7, 8, 5]]\n",
    "\n",
    "Output: max_value = 9; max_row, max_col = 1, 1\n",
    "\n",
    "Gợi ý: \n",
    "Để tìm phần tử lớn nhất và vị trí của phần tử đó trong một mảng 2D, bạn có thể sử dụng hàm np.max() để tìm phần tử lớn nhất và np.unravel_index() để tìm vị trí"
   ]
  },
  {
   "cell_type": "code",
   "execution_count": 35,
   "metadata": {},
   "outputs": [
    {
     "name": "stdout",
     "output_type": "stream",
     "text": [
      "max_value = 9\n",
      "max_row, max_col = (1, 1)\n"
     ]
    }
   ],
   "source": [
    "import numpy as np\n",
    "\n",
    "# Tạo mảng 2D\n",
    "my_array = np.array([[1, 2, 3], [4, 9, 6], [7, 8, 5]])\n",
    "\n",
    "# Tìm phần tử lớn nhất\n",
    "max_value = np.max(my_array)\n",
    "\n",
    "# Tìm vị trí của phần tử lớn nhất\n",
    "max_position = np.unravel_index(np.argmax(my_array), my_array.shape)\n",
    "\n",
    "# In kết quả\n",
    "print(\"max_value =\", max_value)\n",
    "print(\"max_row, max_col =\", max_position)\n"
   ]
  },
  {
   "cell_type": "code",
   "execution_count": null,
   "metadata": {},
   "outputs": [],
   "source": []
  }
 ],
 "metadata": {
  "kernelspec": {
   "display_name": "aio2023",
   "language": "python",
   "name": "python3"
  },
  "language_info": {
   "codemirror_mode": {
    "name": "ipython",
    "version": 3
   },
   "file_extension": ".py",
   "mimetype": "text/x-python",
   "name": "python",
   "nbconvert_exporter": "python",
   "pygments_lexer": "ipython3",
   "version": "3.9.16"
  },
  "orig_nbformat": 4
 },
 "nbformat": 4,
 "nbformat_minor": 2
}
